{
 "cells": [
  {
   "cell_type": "code",
   "execution_count": 26,
   "metadata": {},
   "outputs": [],
   "source": [
    "with open(\"/home/qzj517/POR-DD/gflownet/mols/data/blocks_PDB_105.json\") as f:\n",
    "    data = f.read()"
   ]
  },
  {
   "cell_type": "code",
   "execution_count": 27,
   "metadata": {},
   "outputs": [],
   "source": [
    "d = eval(data)"
   ]
  },
  {
   "cell_type": "code",
   "execution_count": 40,
   "metadata": {},
   "outputs": [],
   "source": [
    "block_smi = list(d[\"block_smi\"].values())\n",
    "block_rs = list(d[\"block_r\"].values())\n",
    "block_names = list(d[\"block_name\"].values())"
   ]
  },
  {
   "cell_type": "code",
   "execution_count": 42,
   "metadata": {},
   "outputs": [],
   "source": [
    "import numpy as np"
   ]
  },
  {
   "cell_type": "code",
   "execution_count": 45,
   "metadata": {},
   "outputs": [],
   "source": [
    "true_block_set = sorted(set(block_smi))"
   ]
  },
  {
   "cell_type": "code",
   "execution_count": 50,
   "metadata": {},
   "outputs": [],
   "source": [
    "import pandas as pd"
   ]
  },
  {
   "cell_type": "code",
   "execution_count": 53,
   "metadata": {},
   "outputs": [],
   "source": [
    "df_smi = pd.DataFrame(block_smi)\n",
    "df_r = pd.DataFrame(block_rs)"
   ]
  },
  {
   "cell_type": "code",
   "execution_count": 59,
   "metadata": {},
   "outputs": [
    {
     "data": {
      "text/html": [
       "<div>\n",
       "<style scoped>\n",
       "    .dataframe tbody tr th:only-of-type {\n",
       "        vertical-align: middle;\n",
       "    }\n",
       "\n",
       "    .dataframe tbody tr th {\n",
       "        vertical-align: top;\n",
       "    }\n",
       "\n",
       "    .dataframe thead th {\n",
       "        text-align: right;\n",
       "    }\n",
       "</style>\n",
       "<table border=\"1\" class=\"dataframe\">\n",
       "  <thead>\n",
       "    <tr style=\"text-align: right;\">\n",
       "      <th></th>\n",
       "      <th>0</th>\n",
       "      <th>1</th>\n",
       "      <th>2</th>\n",
       "      <th>3</th>\n",
       "      <th>4</th>\n",
       "      <th>5</th>\n",
       "    </tr>\n",
       "  </thead>\n",
       "  <tbody>\n",
       "    <tr>\n",
       "      <th>0</th>\n",
       "      <td>0</td>\n",
       "      <td>1.0</td>\n",
       "      <td>2.0</td>\n",
       "      <td>3.0</td>\n",
       "      <td>4.0</td>\n",
       "      <td>5.0</td>\n",
       "    </tr>\n",
       "    <tr>\n",
       "      <th>1</th>\n",
       "      <td>0</td>\n",
       "      <td>1.0</td>\n",
       "      <td>NaN</td>\n",
       "      <td>NaN</td>\n",
       "      <td>NaN</td>\n",
       "      <td>NaN</td>\n",
       "    </tr>\n",
       "    <tr>\n",
       "      <th>2</th>\n",
       "      <td>1</td>\n",
       "      <td>0.0</td>\n",
       "      <td>0.0</td>\n",
       "      <td>0.0</td>\n",
       "      <td>NaN</td>\n",
       "      <td>NaN</td>\n",
       "    </tr>\n",
       "    <tr>\n",
       "      <th>3</th>\n",
       "      <td>0</td>\n",
       "      <td>NaN</td>\n",
       "      <td>NaN</td>\n",
       "      <td>NaN</td>\n",
       "      <td>NaN</td>\n",
       "      <td>NaN</td>\n",
       "    </tr>\n",
       "    <tr>\n",
       "      <th>4</th>\n",
       "      <td>0</td>\n",
       "      <td>3.0</td>\n",
       "      <td>NaN</td>\n",
       "      <td>NaN</td>\n",
       "      <td>NaN</td>\n",
       "      <td>NaN</td>\n",
       "    </tr>\n",
       "    <tr>\n",
       "      <th>...</th>\n",
       "      <td>...</td>\n",
       "      <td>...</td>\n",
       "      <td>...</td>\n",
       "      <td>...</td>\n",
       "      <td>...</td>\n",
       "      <td>...</td>\n",
       "    </tr>\n",
       "    <tr>\n",
       "      <th>100</th>\n",
       "      <td>8</td>\n",
       "      <td>4.0</td>\n",
       "      <td>7.0</td>\n",
       "      <td>NaN</td>\n",
       "      <td>NaN</td>\n",
       "      <td>NaN</td>\n",
       "    </tr>\n",
       "    <tr>\n",
       "      <th>101</th>\n",
       "      <td>7</td>\n",
       "      <td>4.0</td>\n",
       "      <td>8.0</td>\n",
       "      <td>NaN</td>\n",
       "      <td>NaN</td>\n",
       "      <td>NaN</td>\n",
       "    </tr>\n",
       "    <tr>\n",
       "      <th>102</th>\n",
       "      <td>4</td>\n",
       "      <td>7.0</td>\n",
       "      <td>8.0</td>\n",
       "      <td>NaN</td>\n",
       "      <td>NaN</td>\n",
       "      <td>NaN</td>\n",
       "    </tr>\n",
       "    <tr>\n",
       "      <th>103</th>\n",
       "      <td>1</td>\n",
       "      <td>NaN</td>\n",
       "      <td>NaN</td>\n",
       "      <td>NaN</td>\n",
       "      <td>NaN</td>\n",
       "      <td>NaN</td>\n",
       "    </tr>\n",
       "    <tr>\n",
       "      <th>104</th>\n",
       "      <td>5</td>\n",
       "      <td>NaN</td>\n",
       "      <td>NaN</td>\n",
       "      <td>NaN</td>\n",
       "      <td>NaN</td>\n",
       "      <td>NaN</td>\n",
       "    </tr>\n",
       "  </tbody>\n",
       "</table>\n",
       "<p>105 rows × 6 columns</p>\n",
       "</div>"
      ],
      "text/plain": [
       "     0    1    2    3    4    5\n",
       "0    0  1.0  2.0  3.0  4.0  5.0\n",
       "1    0  1.0  NaN  NaN  NaN  NaN\n",
       "2    1  0.0  0.0  0.0  NaN  NaN\n",
       "3    0  NaN  NaN  NaN  NaN  NaN\n",
       "4    0  3.0  NaN  NaN  NaN  NaN\n",
       "..  ..  ...  ...  ...  ...  ...\n",
       "100  8  4.0  7.0  NaN  NaN  NaN\n",
       "101  7  4.0  8.0  NaN  NaN  NaN\n",
       "102  4  7.0  8.0  NaN  NaN  NaN\n",
       "103  1  NaN  NaN  NaN  NaN  NaN\n",
       "104  5  NaN  NaN  NaN  NaN  NaN\n",
       "\n",
       "[105 rows x 6 columns]"
      ]
     },
     "execution_count": 59,
     "metadata": {},
     "output_type": "execute_result"
    }
   ],
   "source": [
    "df_r"
   ]
  },
  {
   "cell_type": "code",
   "execution_count": 68,
   "metadata": {},
   "outputs": [
    {
     "name": "stderr",
     "output_type": "stream",
     "text": [
      "/home/qzj517/anaconda3/envs/equibind/lib/python3.7/site-packages/ipykernel_launcher.py:2: VisibleDeprecationWarning: Creating an ndarray from ragged nested sequences (which is a list-or-tuple of lists-or-tuples-or ndarrays with different lengths or shapes) is deprecated. If you meant to do this, you must specify 'dtype=object' when creating the ndarray.\n",
      "  \n"
     ]
    }
   ],
   "source": [
    "a_smi = np.array(block_smi)\n",
    "a_rs = np.array(block_rs)"
   ]
  },
  {
   "cell_type": "code",
   "execution_count": 83,
   "metadata": {},
   "outputs": [
    {
     "data": {
      "text/plain": [
       "array([list([0, 1]), list([1, 0, 0, 0])], dtype=object)"
      ]
     },
     "execution_count": 83,
     "metadata": {},
     "output_type": "execute_result"
    }
   ],
   "source": [
    "a_rs[a_smi == \"CO\"]"
   ]
  },
  {
   "cell_type": "code",
   "execution_count": 88,
   "metadata": {},
   "outputs": [],
   "source": [
    "maxed = []\n",
    "for unique_smi in true_block_set:\n",
    "    mask = a_smi == unique_smi\n",
    "    r_for_all_relevant_smi = a_rs[mask]\n",
    "    maxed.append(max([max(x)+1 for x in r_for_all_relevant_smi]))\n"
   ]
  },
  {
   "cell_type": "code",
   "execution_count": 97,
   "metadata": {},
   "outputs": [],
   "source": [
    "maxed = np.array(maxed)"
   ]
  },
  {
   "cell_type": "code",
   "execution_count": 94,
   "metadata": {},
   "outputs": [],
   "source": [
    "mask2 = ~(np.array([max(block_rs[block_smi.index(i)])+1 for i in true_block_set]) == np.array(maxed))"
   ]
  },
  {
   "cell_type": "code",
   "execution_count": 104,
   "metadata": {},
   "outputs": [
    {
     "data": {
      "text/plain": [
       "[65,\n",
       " 31,\n",
       " 31,\n",
       " 19,\n",
       " 9,\n",
       " 9,\n",
       " 9,\n",
       " 43,\n",
       " 1,\n",
       " 66,\n",
       " 66,\n",
       " 66,\n",
       " 30,\n",
       " 30,\n",
       " 20,\n",
       " 44,\n",
       " 45,\n",
       " 25,\n",
       " 64,\n",
       " 64,\n",
       " 41,\n",
       " 41,\n",
       " 6,\n",
       " 27,\n",
       " 27,\n",
       " 36,\n",
       " 39,\n",
       " 28,\n",
       " 47,\n",
       " 35,\n",
       " 10,\n",
       " 10,\n",
       " 71,\n",
       " 71,\n",
       " 62,\n",
       " 62,\n",
       " 63,\n",
       " 13,\n",
       " 7,\n",
       " 40,\n",
       " 70,\n",
       " 70,\n",
       " 49,\n",
       " 8,\n",
       " 8,\n",
       " 8,\n",
       " 68,\n",
       " 68,\n",
       " 68,\n",
       " 68,\n",
       " 50,\n",
       " 37,\n",
       " 67,\n",
       " 51,\n",
       " 60,\n",
       " 21,\n",
       " 38,\n",
       " 55,\n",
       " 55,\n",
       " 29,\n",
       " 69,\n",
       " 69,\n",
       " 69,\n",
       " 0,\n",
       " 12,\n",
       " 61,\n",
       " 61,\n",
       " 5,\n",
       " 15,\n",
       " 11,\n",
       " 11,\n",
       " 11,\n",
       " 22,\n",
       " 42,\n",
       " 26,\n",
       " 23,\n",
       " 2,\n",
       " 24,\n",
       " 57,\n",
       " 57,\n",
       " 4,\n",
       " 4,\n",
       " 17,\n",
       " 17,\n",
       " 32,\n",
       " 53,\n",
       " 33,\n",
       " 16,\n",
       " 18,\n",
       " 46,\n",
       " 59,\n",
       " 59,\n",
       " 54,\n",
       " 3,\n",
       " 3,\n",
       " 3,\n",
       " 56,\n",
       " 56,\n",
       " 48,\n",
       " 52,\n",
       " 58,\n",
       " 58,\n",
       " 58,\n",
       " 34,\n",
       " 14]"
      ]
     },
     "execution_count": 104,
     "metadata": {},
     "output_type": "execute_result"
    }
   ],
   "source": [
    "[true_block_set.index(i) for i in block_smi]"
   ]
  },
  {
   "cell_type": "code",
   "execution_count": 98,
   "metadata": {},
   "outputs": [
    {
     "data": {
      "text/plain": [
       "array([4, 3, 3])"
      ]
     },
     "execution_count": 98,
     "metadata": {},
     "output_type": "execute_result"
    }
   ],
   "source": [
    "maxed[mask2]"
   ]
  },
  {
   "cell_type": "code",
   "execution_count": 100,
   "metadata": {},
   "outputs": [
    {
     "data": {
      "text/plain": [
       "array([1, 1, 1])"
      ]
     },
     "execution_count": 100,
     "metadata": {},
     "output_type": "execute_result"
    }
   ],
   "source": [
    "np.array([max(block_rs[block_smi.index(i)])+1 for i in true_block_set])[mask2]"
   ]
  },
  {
   "cell_type": "code",
   "execution_count": 90,
   "metadata": {},
   "outputs": [
    {
     "data": {
      "text/plain": [
       "[1,\n",
       " 1,\n",
       " 1,\n",
       " 4,\n",
       " 3,\n",
       " 1,\n",
       " 1,\n",
       " 6,\n",
       " 5,\n",
       " 4,\n",
       " 5,\n",
       " 6,\n",
       " 6,\n",
       " 6,\n",
       " 6,\n",
       " 2,\n",
       " 1,\n",
       " 2,\n",
       " 1,\n",
       " 1,\n",
       " 2,\n",
       " 2,\n",
       " 2,\n",
       " 3,\n",
       " 2,\n",
       " 2,\n",
       " 2,\n",
       " 2,\n",
       " 2,\n",
       " 1,\n",
       " 3,\n",
       " 2,\n",
       " 1,\n",
       " 1,\n",
       " 2,\n",
       " 1,\n",
       " 1,\n",
       " 2,\n",
       " 1,\n",
       " 1,\n",
       " 2,\n",
       " 2,\n",
       " 2,\n",
       " 1,\n",
       " 2,\n",
       " 2,\n",
       " 2,\n",
       " 2,\n",
       " 2,\n",
       " 2,\n",
       " 2,\n",
       " 2,\n",
       " 2,\n",
       " 2,\n",
       " 2,\n",
       " 7,\n",
       " 9,\n",
       " 5,\n",
       " 9,\n",
       " 7,\n",
       " 1,\n",
       " 4,\n",
       " 3,\n",
       " 7,\n",
       " 3,\n",
       " 6,\n",
       " 6,\n",
       " 5,\n",
       " 5,\n",
       " 6,\n",
       " 4,\n",
       " 7]"
      ]
     },
     "execution_count": 90,
     "metadata": {},
     "output_type": "execute_result"
    }
   ],
   "source": [
    "maxed"
   ]
  },
  {
   "cell_type": "code",
   "execution_count": 82,
   "metadata": {},
   "outputs": [
    {
     "data": {
      "text/plain": [
       "[False, True]"
      ]
     },
     "execution_count": 82,
     "metadata": {},
     "output_type": "execute_result"
    }
   ],
   "source": [
    "[x[0] == max(x) for x in a_rs[a_smi == \"CO\"]]"
   ]
  },
  {
   "cell_type": "code",
   "execution_count": 80,
   "metadata": {},
   "outputs": [
    {
     "data": {
      "text/plain": [
       "[[True],\n",
       " [True],\n",
       " [True],\n",
       " [True, True, True],\n",
       " [False, True],\n",
       " [True],\n",
       " [True],\n",
       " [False],\n",
       " [False, False, False],\n",
       " [False, False, True],\n",
       " [False, False],\n",
       " [False, False, False],\n",
       " [False],\n",
       " [True],\n",
       " [True],\n",
       " [False],\n",
       " [True],\n",
       " [False, True],\n",
       " [True],\n",
       " [True],\n",
       " [False],\n",
       " [True],\n",
       " [True],\n",
       " [True],\n",
       " [True],\n",
       " [True],\n",
       " [True],\n",
       " [False, True],\n",
       " [True],\n",
       " [True],\n",
       " [False, True],\n",
       " [False, True],\n",
       " [True],\n",
       " [True],\n",
       " [True],\n",
       " [True],\n",
       " [True],\n",
       " [True],\n",
       " [True],\n",
       " [True],\n",
       " [True],\n",
       " [False, True],\n",
       " [True],\n",
       " [True],\n",
       " [True],\n",
       " [True],\n",
       " [True],\n",
       " [True],\n",
       " [True],\n",
       " [True],\n",
       " [True],\n",
       " [True],\n",
       " [True],\n",
       " [True],\n",
       " [True],\n",
       " [False, True],\n",
       " [False, True],\n",
       " [False, True],\n",
       " [True, False, False],\n",
       " [False, True],\n",
       " [True],\n",
       " [False, True],\n",
       " [True, True],\n",
       " [True],\n",
       " [True, True],\n",
       " [False],\n",
       " [False, False, False],\n",
       " [False],\n",
       " [False, False, True, False],\n",
       " [False, False, False],\n",
       " [False, True],\n",
       " [False, True]]"
      ]
     },
     "execution_count": 80,
     "metadata": {},
     "output_type": "execute_result"
    }
   ],
   "source": [
    "[[x[0] == max(x) for x in a_rs[a_smi == unique_smi]] for unique_smi in true_block_set]\n"
   ]
  },
  {
   "cell_type": "code",
   "execution_count": 78,
   "metadata": {},
   "outputs": [
    {
     "data": {
      "text/plain": [
       "[False,\n",
       " False,\n",
       " False,\n",
       " False,\n",
       " True,\n",
       " False,\n",
       " False,\n",
       " True,\n",
       " True,\n",
       " True,\n",
       " True,\n",
       " True,\n",
       " True,\n",
       " True,\n",
       " True,\n",
       " True,\n",
       " False,\n",
       " True,\n",
       " False,\n",
       " False,\n",
       " True,\n",
       " True,\n",
       " True,\n",
       " True,\n",
       " True,\n",
       " True,\n",
       " True,\n",
       " True,\n",
       " True,\n",
       " False,\n",
       " True,\n",
       " True,\n",
       " False,\n",
       " False,\n",
       " True,\n",
       " False,\n",
       " False,\n",
       " True,\n",
       " False,\n",
       " False,\n",
       " True,\n",
       " True,\n",
       " True,\n",
       " False,\n",
       " True,\n",
       " True,\n",
       " True,\n",
       " True,\n",
       " True,\n",
       " True,\n",
       " True,\n",
       " True,\n",
       " True,\n",
       " True,\n",
       " True,\n",
       " True,\n",
       " True,\n",
       " True,\n",
       " True,\n",
       " True,\n",
       " False,\n",
       " True,\n",
       " False,\n",
       " True,\n",
       " False,\n",
       " True,\n",
       " True,\n",
       " True,\n",
       " True,\n",
       " True,\n",
       " True,\n",
       " True]"
      ]
     },
     "execution_count": 78,
     "metadata": {},
     "output_type": "execute_result"
    }
   ],
   "source": [
    "[all([max(x) for x in a_rs[a_smi == unique_smi]]) for unique_smi in true_block_set]"
   ]
  },
  {
   "cell_type": "code",
   "execution_count": 62,
   "metadata": {},
   "outputs": [
    {
     "data": {
      "text/html": [
       "<div>\n",
       "<style scoped>\n",
       "    .dataframe tbody tr th:only-of-type {\n",
       "        vertical-align: middle;\n",
       "    }\n",
       "\n",
       "    .dataframe tbody tr th {\n",
       "        vertical-align: top;\n",
       "    }\n",
       "\n",
       "    .dataframe thead th {\n",
       "        text-align: right;\n",
       "    }\n",
       "</style>\n",
       "<table border=\"1\" class=\"dataframe\">\n",
       "  <thead>\n",
       "    <tr style=\"text-align: right;\">\n",
       "      <th></th>\n",
       "      <th>0</th>\n",
       "    </tr>\n",
       "  </thead>\n",
       "  <tbody>\n",
       "    <tr>\n",
       "      <th>0</th>\n",
       "      <td>False</td>\n",
       "    </tr>\n",
       "    <tr>\n",
       "      <th>1</th>\n",
       "      <td>False</td>\n",
       "    </tr>\n",
       "    <tr>\n",
       "      <th>2</th>\n",
       "      <td>False</td>\n",
       "    </tr>\n",
       "    <tr>\n",
       "      <th>3</th>\n",
       "      <td>False</td>\n",
       "    </tr>\n",
       "    <tr>\n",
       "      <th>4</th>\n",
       "      <td>False</td>\n",
       "    </tr>\n",
       "    <tr>\n",
       "      <th>...</th>\n",
       "      <td>...</td>\n",
       "    </tr>\n",
       "    <tr>\n",
       "      <th>100</th>\n",
       "      <td>False</td>\n",
       "    </tr>\n",
       "    <tr>\n",
       "      <th>101</th>\n",
       "      <td>False</td>\n",
       "    </tr>\n",
       "    <tr>\n",
       "      <th>102</th>\n",
       "      <td>False</td>\n",
       "    </tr>\n",
       "    <tr>\n",
       "      <th>103</th>\n",
       "      <td>False</td>\n",
       "    </tr>\n",
       "    <tr>\n",
       "      <th>104</th>\n",
       "      <td>False</td>\n",
       "    </tr>\n",
       "  </tbody>\n",
       "</table>\n",
       "<p>105 rows × 1 columns</p>\n",
       "</div>"
      ],
      "text/plain": [
       "         0\n",
       "0    False\n",
       "1    False\n",
       "2    False\n",
       "3    False\n",
       "4    False\n",
       "..     ...\n",
       "100  False\n",
       "101  False\n",
       "102  False\n",
       "103  False\n",
       "104  False\n",
       "\n",
       "[105 rows x 1 columns]"
      ]
     },
     "execution_count": 62,
     "metadata": {},
     "output_type": "execute_result"
    }
   ],
   "source": [
    "df_smi == 'C1=CCCCC1'"
   ]
  },
  {
   "cell_type": "code",
   "execution_count": 61,
   "metadata": {},
   "outputs": [
    {
     "ename": "ValueError",
     "evalue": "Cannot index with multidimensional key",
     "output_type": "error",
     "traceback": [
      "\u001b[0;31m---------------------------------------------------------------------------\u001b[0m",
      "\u001b[0;31mValueError\u001b[0m                                Traceback (most recent call last)",
      "\u001b[0;32m/tmp/ipykernel_39366/950874832.py\u001b[0m in \u001b[0;36m<module>\u001b[0;34m\u001b[0m\n\u001b[0;32m----> 1\u001b[0;31m \u001b[0mdf_r\u001b[0m\u001b[0;34m.\u001b[0m\u001b[0mloc\u001b[0m\u001b[0;34m[\u001b[0m\u001b[0mdf_smi\u001b[0m \u001b[0;34m==\u001b[0m \u001b[0;34m'C1=CCCCC1'\u001b[0m\u001b[0;34m]\u001b[0m\u001b[0;34m\u001b[0m\u001b[0;34m\u001b[0m\u001b[0m\n\u001b[0m",
      "\u001b[0;32m~/anaconda3/envs/equibind/lib/python3.7/site-packages/pandas/core/indexing.py\u001b[0m in \u001b[0;36m__getitem__\u001b[0;34m(self, key)\u001b[0m\n\u001b[1;32m    929\u001b[0m \u001b[0;34m\u001b[0m\u001b[0m\n\u001b[1;32m    930\u001b[0m             \u001b[0mmaybe_callable\u001b[0m \u001b[0;34m=\u001b[0m \u001b[0mcom\u001b[0m\u001b[0;34m.\u001b[0m\u001b[0mapply_if_callable\u001b[0m\u001b[0;34m(\u001b[0m\u001b[0mkey\u001b[0m\u001b[0;34m,\u001b[0m \u001b[0mself\u001b[0m\u001b[0;34m.\u001b[0m\u001b[0mobj\u001b[0m\u001b[0;34m)\u001b[0m\u001b[0;34m\u001b[0m\u001b[0;34m\u001b[0m\u001b[0m\n\u001b[0;32m--> 931\u001b[0;31m             \u001b[0;32mreturn\u001b[0m \u001b[0mself\u001b[0m\u001b[0;34m.\u001b[0m\u001b[0m_getitem_axis\u001b[0m\u001b[0;34m(\u001b[0m\u001b[0mmaybe_callable\u001b[0m\u001b[0;34m,\u001b[0m \u001b[0maxis\u001b[0m\u001b[0;34m=\u001b[0m\u001b[0maxis\u001b[0m\u001b[0;34m)\u001b[0m\u001b[0;34m\u001b[0m\u001b[0;34m\u001b[0m\u001b[0m\n\u001b[0m\u001b[1;32m    932\u001b[0m \u001b[0;34m\u001b[0m\u001b[0m\n\u001b[1;32m    933\u001b[0m     \u001b[0;32mdef\u001b[0m \u001b[0m_is_scalar_access\u001b[0m\u001b[0;34m(\u001b[0m\u001b[0mself\u001b[0m\u001b[0;34m,\u001b[0m \u001b[0mkey\u001b[0m\u001b[0;34m:\u001b[0m \u001b[0mtuple\u001b[0m\u001b[0;34m)\u001b[0m\u001b[0;34m:\u001b[0m\u001b[0;34m\u001b[0m\u001b[0;34m\u001b[0m\u001b[0m\n",
      "\u001b[0;32m~/anaconda3/envs/equibind/lib/python3.7/site-packages/pandas/core/indexing.py\u001b[0m in \u001b[0;36m_getitem_axis\u001b[0;34m(self, key, axis)\u001b[0m\n\u001b[1;32m   1149\u001b[0m \u001b[0;34m\u001b[0m\u001b[0m\n\u001b[1;32m   1150\u001b[0m                 \u001b[0;32mif\u001b[0m \u001b[0mhasattr\u001b[0m\u001b[0;34m(\u001b[0m\u001b[0mkey\u001b[0m\u001b[0;34m,\u001b[0m \u001b[0;34m\"ndim\"\u001b[0m\u001b[0;34m)\u001b[0m \u001b[0;32mand\u001b[0m \u001b[0mkey\u001b[0m\u001b[0;34m.\u001b[0m\u001b[0mndim\u001b[0m \u001b[0;34m>\u001b[0m \u001b[0;36m1\u001b[0m\u001b[0;34m:\u001b[0m\u001b[0;34m\u001b[0m\u001b[0;34m\u001b[0m\u001b[0m\n\u001b[0;32m-> 1151\u001b[0;31m                     \u001b[0;32mraise\u001b[0m \u001b[0mValueError\u001b[0m\u001b[0;34m(\u001b[0m\u001b[0;34m\"Cannot index with multidimensional key\"\u001b[0m\u001b[0;34m)\u001b[0m\u001b[0;34m\u001b[0m\u001b[0;34m\u001b[0m\u001b[0m\n\u001b[0m\u001b[1;32m   1152\u001b[0m \u001b[0;34m\u001b[0m\u001b[0m\n\u001b[1;32m   1153\u001b[0m                 \u001b[0;32mreturn\u001b[0m \u001b[0mself\u001b[0m\u001b[0;34m.\u001b[0m\u001b[0m_getitem_iterable\u001b[0m\u001b[0;34m(\u001b[0m\u001b[0mkey\u001b[0m\u001b[0;34m,\u001b[0m \u001b[0maxis\u001b[0m\u001b[0;34m=\u001b[0m\u001b[0maxis\u001b[0m\u001b[0;34m)\u001b[0m\u001b[0;34m\u001b[0m\u001b[0;34m\u001b[0m\u001b[0m\n",
      "\u001b[0;31mValueError\u001b[0m: Cannot index with multidimensional key"
     ]
    }
   ],
   "source": [
    "df_r.loc[]"
   ]
  },
  {
   "cell_type": "code",
   "execution_count": 46,
   "metadata": {},
   "outputs": [
    {
     "data": {
      "text/plain": [
       "array([  0,   1,   2,   3,   4,   7,   8,   9,  15,  20,  24,  29,  35,\n",
       "        41,  47,  53,  55,  56,  58,  59,  60,  62,  64,  66,  69,  71,\n",
       "        73,  75,  77,  79,  80,  83,  85,  86,  87,  89,  90,  91,  93,\n",
       "        94,  95,  97,  99, 101, 102, 104, 106, 108, 110, 112, 114, 116,\n",
       "       118, 120, 122, 124, 131, 140, 145, 154, 161, 162, 166, 167, 174,\n",
       "       175, 181, 187, 192, 197, 203, 207, 214], dtype=int32)"
      ]
     },
     "execution_count": 46,
     "metadata": {},
     "output_type": "execute_result"
    }
   ],
   "source": [
    "np.int32([0] + list(np.cumsum([max(block_rs[block_smi.index(i)])+1 for i in true_block_set])))"
   ]
  },
  {
   "cell_type": "code",
   "execution_count": 47,
   "metadata": {},
   "outputs": [
    {
     "data": {
      "text/plain": [
       "['Br',\n",
       " 'C',\n",
       " 'C#N',\n",
       " 'C1=CCCCC1',\n",
       " 'C1=CNC=CC1',\n",
       " 'C1CC1',\n",
       " 'C1CCCC1',\n",
       " 'C1CCCCC1',\n",
       " 'C1CCNC1',\n",
       " 'C1CCNCC1',\n",
       " 'C1CCOC1',\n",
       " 'C1CCOCC1',\n",
       " 'C1CNCCN1',\n",
       " 'C1COCCN1',\n",
       " 'C1COCC[NH2+]1',\n",
       " 'C=C',\n",
       " 'C=C(C)C',\n",
       " 'C=CC',\n",
       " 'C=N',\n",
       " 'C=O',\n",
       " 'CC',\n",
       " 'CC(C)C',\n",
       " 'CC(C)O',\n",
       " 'CC(N)=O',\n",
       " 'CC=O',\n",
       " 'CCC',\n",
       " 'CCO',\n",
       " 'CN',\n",
       " 'CNC',\n",
       " 'CNC(C)=O',\n",
       " 'CNC=O',\n",
       " 'CO',\n",
       " 'CS',\n",
       " 'C[NH3+]',\n",
       " 'C[SH2+]',\n",
       " 'Cl',\n",
       " 'F',\n",
       " 'FC(F)F',\n",
       " 'I',\n",
       " 'N',\n",
       " 'N=CN',\n",
       " 'NC=O',\n",
       " 'N[SH](=O)=O',\n",
       " 'O',\n",
       " 'O=CNO',\n",
       " 'O=CO',\n",
       " 'O=C[O-]',\n",
       " 'O=PO',\n",
       " 'O=P[O-]',\n",
       " 'O=S=O',\n",
       " 'O=[NH+][O-]',\n",
       " 'O=[PH](O)O',\n",
       " 'O=[PH]([O-])O',\n",
       " 'O=[SH](=O)O',\n",
       " 'O=[SH](=O)[O-]',\n",
       " 'O=c1[nH]cnc2[nH]cnc12',\n",
       " 'O=c1[nH]cnc2c1NCCN2',\n",
       " 'O=c1cc[nH]c(=O)[nH]1',\n",
       " 'O=c1nc2[nH]c3ccccc3nc-2c(=O)[nH]1',\n",
       " 'O=c1nccc[nH]1',\n",
       " 'S',\n",
       " 'c1cc[nH+]cc1',\n",
       " 'c1cc[nH]c1',\n",
       " 'c1ccc2[nH]ccc2c1',\n",
       " 'c1ccc2ccccc2c1',\n",
       " 'c1ccccc1',\n",
       " 'c1ccncc1',\n",
       " 'c1ccsc1',\n",
       " 'c1cn[nH]c1',\n",
       " 'c1cncnc1',\n",
       " 'c1cscn1',\n",
       " 'c1ncc2nc[nH]c2n1']"
      ]
     },
     "execution_count": 47,
     "metadata": {},
     "output_type": "execute_result"
    }
   ],
   "source": [
    "true_block_set"
   ]
  },
  {
   "cell_type": "code",
   "execution_count": 7,
   "metadata": {},
   "outputs": [],
   "source": [
    "data = [[j for j in i.values()] for i in d.values()]"
   ]
  },
  {
   "cell_type": "code",
   "execution_count": 14,
   "metadata": {},
   "outputs": [],
   "source": [
    "data = list(zip(*data))"
   ]
  },
  {
   "cell_type": "code",
   "execution_count": 25,
   "metadata": {},
   "outputs": [
    {
     "data": {
      "text/plain": [
       "('C1CCNCC1_1', 'C1CCNCC1', [1, 0, 3])"
      ]
     },
     "execution_count": 25,
     "metadata": {},
     "output_type": "execute_result"
    }
   ],
   "source": [
    "data[5]"
   ]
  }
 ],
 "metadata": {
  "kernelspec": {
   "display_name": "Python 3.7.12 ('equibind')",
   "language": "python",
   "name": "python3"
  },
  "language_info": {
   "codemirror_mode": {
    "name": "ipython",
    "version": 3
   },
   "file_extension": ".py",
   "mimetype": "text/x-python",
   "name": "python",
   "nbconvert_exporter": "python",
   "pygments_lexer": "ipython3",
   "version": "3.7.12"
  },
  "orig_nbformat": 4,
  "vscode": {
   "interpreter": {
    "hash": "04475abadedb3aab4ccbf1c008eb02d5b063596dfe932483cffbc789dbcaf521"
   }
  }
 },
 "nbformat": 4,
 "nbformat_minor": 2
}
