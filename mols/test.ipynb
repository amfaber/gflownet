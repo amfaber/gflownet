{
 "cells": [
  {
   "cell_type": "code",
   "execution_count": 1,
   "metadata": {},
   "outputs": [
    {
     "name": "stderr",
     "output_type": "stream",
     "text": [
      "/home/qzj517/anaconda3/envs/torch-cpu/lib/python3.7/site-packages/tqdm/auto.py:22: TqdmWarning: IProgress not found. Please update jupyter and ipywidgets. See https://ipywidgets.readthedocs.io/en/stable/user_install.html\n",
      "  from .autonotebook import tqdm as notebook_tqdm\n"
     ]
    },
    {
     "name": "stdout",
     "output_type": "stream",
     "text": [
      "device = cpu\n"
     ]
    }
   ],
   "source": [
    "import equibind_reward\n",
    "import importlib\n",
    "importlib.reload(equibind_reward)\n",
    "import tempfile\n",
    "import torch\n",
    "import rdkit.Chem as Chem\n",
    "with tempfile.TemporaryDirectory() as tmpdir:\n",
    "    arglist = [\n",
    "        \"-r\", \"/home/qzj517/POR-DD/data/raw_data/por_structures/3ES9_1_reduced.pdb\",\n",
    "        \"-o\", tmpdir,\n",
    "        \"--device\", f\"cuda:{torch.cuda.device_count()-1}\" if torch.cuda.is_available() else \"cpu\",\n",
    "        \"--batch_size\", f\"{4}\",\n",
    "    ]\n",
    "    rewarder = equibind_reward.Rewarder(\"vs\", arglist)"
   ]
  },
  {
   "cell_type": "code",
   "execution_count": 2,
   "metadata": {},
   "outputs": [
    {
     "name": "stdout",
     "output_type": "stream",
     "text": [
      "0\n",
      "1\n",
      "2\n",
      "0\n",
      "1\n",
      "2\n"
     ]
    },
    {
     "name": "stdout",
     "output_type": "stream",
     "text": [
      "0\n",
      "1\n",
      "2\n",
      "0\n",
      "1\n",
      "2\n"
     ]
    }
   ],
   "source": [
    "mols1 = [Chem.MolFromSmiles(mol) for mol in [\"CCN\", \"CO\", \"c1ccccc1\"]]\n",
    "mols2 = [Chem.MolFromSmiles(mol) for mol in [\"CN\", \"FCO\", \"c1ccccn1\"]]\n",
    "f = lambda x: [Chem.MolToSmiles(Chem.RemoveHs(mol)) for mol in x]\n",
    "\n",
    "rewarder.dataset.set_ligs(mols1)\n",
    "idk1 = f(next(iter(rewarder.loader))[0])\n",
    "\n",
    "rewarder.dataset.set_ligs(mols2)\n",
    "idk2 = f(next(iter(rewarder.loader))[0])"
   ]
  },
  {
   "cell_type": "code",
   "execution_count": 18,
   "metadata": {},
   "outputs": [
    {
     "name": "stdout",
     "output_type": "stream",
     "text": [
      "0\n",
      "1\n",
      "2\n",
      "['CCN', 'CO', 'c1ccccc1']\n",
      "0\n",
      "1\n",
      "2\n",
      "['CN', 'OCF', 'c1ccncc1']\n"
     ]
    }
   ],
   "source": [
    "rewarder.dataset.set_ligs(mols1)\n",
    "rewarder.loader._iterator = rewarder.loader._get_iterator()\n",
    "print(f(rewarder.loader._iterator.__next__()[0]))\n",
    "rewarder.dataset.set_ligs(mols2)\n",
    "rewarder.loader._iterator = rewarder.loader._get_iterator()\n",
    "print(f(rewarder.loader._iterator.__next__()[0]))"
   ]
  },
  {
   "cell_type": "code",
   "execution_count": 6,
   "metadata": {},
   "outputs": [],
   "source": [
    "test = iter(rewarder.loader)"
   ]
  },
  {
   "cell_type": "code",
   "execution_count": 21,
   "metadata": {},
   "outputs": [],
   "source": [
    "import multiprocessing as mp"
   ]
  },
  {
   "cell_type": "code",
   "execution_count": 30,
   "metadata": {},
   "outputs": [],
   "source": [
    "class Test:\n",
    "    def f(self, a):\n",
    "        pass"
   ]
  },
  {
   "cell_type": "code",
   "execution_count": 32,
   "metadata": {},
   "outputs": [],
   "source": [
    "t = Test()\n",
    "with mp.Pool(2) as pool:\n",
    "    pool.map(t.f, range(10))"
   ]
  },
  {
   "cell_type": "code",
   "execution_count": 7,
   "metadata": {},
   "outputs": [
    {
     "data": {
      "text/plain": [
       "([<rdkit.Chem.PropertyMol.PropertyMol at 0x7f97d87010b0>,\n",
       "  <rdkit.Chem.PropertyMol.PropertyMol at 0x7f97d789f5f0>,\n",
       "  <rdkit.Chem.PropertyMol.PropertyMol at 0x7f9876efca30>],\n",
       " [tensor([[ 0.9862, -0.2570, -0.1905],\n",
       "          [-0.2052,  0.2236,  0.6206],\n",
       "          [-1.4201,  0.2357, -0.1847],\n",
       "          [ 1.1699,  0.3960, -1.0503],\n",
       "          [ 1.8883, -0.2595,  0.4297],\n",
       "          [ 0.8288, -1.2756, -0.5608],\n",
       "          [-0.3535, -0.4295,  1.4867],\n",
       "          [-0.0143,  1.2327,  0.9999],\n",
       "          [-1.5964, -0.6993, -0.5510],\n",
       "          [-1.2837,  0.8329, -0.9996]]),\n",
       "  tensor([[-0.3707, -0.0181, -0.0056],\n",
       "          [ 0.9477, -0.4587, -0.2738],\n",
       "          [-0.5157,  0.0644,  1.0744],\n",
       "          [-0.5356,  0.9517, -0.4813],\n",
       "          [-1.0779, -0.7454, -0.4114],\n",
       "          [ 1.5523,  0.2061,  0.0977]]),\n",
       "  tensor([[-1.2981e+00,  5.1046e-01,  8.5286e-04],\n",
       "          [-1.0908e+00, -8.6827e-01,  4.2037e-02],\n",
       "          [ 2.0724e-01, -1.3787e+00,  4.1180e-02],\n",
       "          [ 1.2981e+00, -5.1046e-01, -8.7508e-04],\n",
       "          [ 1.0908e+00,  8.6827e-01, -4.2044e-02],\n",
       "          [-2.0724e-01,  1.3787e+00, -4.1176e-02],\n",
       "          [-2.3094e+00,  9.0817e-01,  1.5170e-03],\n",
       "          [-1.9407e+00, -1.5447e+00,  7.4796e-02],\n",
       "          [ 3.6870e-01, -2.4529e+00,  7.3285e-02],\n",
       "          [ 2.3094e+00, -9.0818e-01, -1.5527e-03],\n",
       "          [ 1.9407e+00,  1.5447e+00, -7.4781e-02],\n",
       "          [-3.6870e-01,  2.4529e+00, -7.3240e-02]])],\n",
       " Graph(num_nodes=28, num_edges=252,\n",
       "       ndata_schemes={'feat': Scheme(shape=(17,), dtype=torch.float32), 'x': Scheme(shape=(3,), dtype=torch.float32), 'mu_r_norm': Scheme(shape=(5,), dtype=torch.float32), 'new_x': Scheme(shape=(3,), dtype=torch.float32)}\n",
       "       edata_schemes={'feat': Scheme(shape=(15,), dtype=torch.float32)}),\n",
       " Graph(num_nodes=1809, num_edges=18090,\n",
       "       ndata_schemes={'feat': Scheme(shape=(3,), dtype=torch.float32), 'x': Scheme(shape=(3,), dtype=torch.float32), 'mu_r_norm': Scheme(shape=(5,), dtype=torch.float32)}\n",
       "       edata_schemes={'feat': Scheme(shape=(27,), dtype=torch.float32)}),\n",
       " Graph(num_nodes=28, num_edges=132,\n",
       "       ndata_schemes={}\n",
       "       edata_schemes={'feat': Scheme(shape=(), dtype=torch.float32)}),\n",
       " [0, 1, 2],\n",
       " ())"
      ]
     },
     "execution_count": 7,
     "metadata": {},
     "output_type": "execute_result"
    }
   ],
   "source": [
    "test.__next__()"
   ]
  },
  {
   "cell_type": "code",
   "execution_count": 67,
   "metadata": {},
   "outputs": [],
   "source": [
    "rewarder.loader._iterator"
   ]
  },
  {
   "cell_type": "code",
   "execution_count": 59,
   "metadata": {},
   "outputs": [
    {
     "data": {
      "text/plain": [
       "['CCN', 'CO', 'c1ccccc1']"
      ]
     },
     "execution_count": 59,
     "metadata": {},
     "output_type": "execute_result"
    }
   ],
   "source": [
    "idk1"
   ]
  },
  {
   "cell_type": "code",
   "execution_count": 60,
   "metadata": {},
   "outputs": [
    {
     "data": {
      "text/plain": [
       "['CN', 'OCF', 'c1ccncc1']"
      ]
     },
     "execution_count": 60,
     "metadata": {},
     "output_type": "execute_result"
    }
   ],
   "source": [
    "idk2"
   ]
  },
  {
   "cell_type": "code",
   "execution_count": null,
   "metadata": {},
   "outputs": [],
   "source": []
  }
 ],
 "metadata": {
  "kernelspec": {
   "display_name": "Python 3.7.13 ('torch-cpu')",
   "language": "python",
   "name": "python3"
  },
  "language_info": {
   "codemirror_mode": {
    "name": "ipython",
    "version": 3
   },
   "file_extension": ".py",
   "mimetype": "text/x-python",
   "name": "python",
   "nbconvert_exporter": "python",
   "pygments_lexer": "ipython3",
   "version": "3.7.13"
  },
  "orig_nbformat": 4,
  "vscode": {
   "interpreter": {
    "hash": "bd4629fcdd3a10f00334e3eb6a1aa27f917e7be94e1c0bfc2d65949fc2b62125"
   }
  }
 },
 "nbformat": 4,
 "nbformat_minor": 2
}
